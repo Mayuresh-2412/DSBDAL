{
 "cells": [
  {
   "cell_type": "markdown",
   "id": "cbbad2db",
   "metadata": {},
   "source": [
    "## Problem Statement 5: \n",
    "Perform the following operations on any open source dataset  \n",
    "1. Provide summary statistics (mean, median, minimum, maximum, standard deviation) for  \n",
    "a dataset (age, income etc.) with numeric variables grouped by one of the qualitative (categorical) \n",
    "variable.(For example, if your categorical variable is age groups and quantitative variable is income, \n",
    "then provide summary statistics of income grouped by the age groups.) \n",
    "2. Create a list that contains a numeric value for each response to the categorical variable. \n",
    "3. Write a Python program to display some basic statistical details like percentile, mean, standard \n",
    "deviation etc. of the species of ‘Iris-setosa’, ‘Iris-versicolor’ and ‘Iris-versicolor’ of iris.csv \n",
    "dataset. "
   ]
  },
  {
   "cell_type": "code",
   "execution_count": 5,
   "id": "bbe37efe",
   "metadata": {},
   "outputs": [],
   "source": [
    "import pandas as pd\n",
    "import seaborn as sns\n",
    "\n",
    "# Load the dataset\n",
    "df = pd.read_csv('adult.csv')"
   ]
  },
  {
   "cell_type": "code",
   "execution_count": 2,
   "id": "ed587c94",
   "metadata": {},
   "outputs": [
    {
     "name": "stdout",
     "output_type": "stream",
     "text": [
      "Summary statistics of age grouped by income:\n",
      "             mean  median  min  max        std\n",
      "income                                        \n",
      "<=50K   36.783738    34.0   17   90  14.020088\n",
      ">50K    44.249841    44.0   19   90  10.519028\n"
     ]
    }
   ],
   "source": [
    "# 1. Summary statistics of 'age' grouped by 'income'\n",
    "age_stats = df.groupby('income')['age'].agg(['mean', 'median', 'min', 'max', 'std'])\n",
    "print(\"Summary statistics of age grouped by income:\")\n",
    "print(age_stats)"
   ]
  },
  {
   "cell_type": "code",
   "execution_count": 3,
   "id": "d824e527",
   "metadata": {},
   "outputs": [
    {
     "name": "stdout",
     "output_type": "stream",
     "text": [
      "\n",
      "List of average ages for each income group:\n",
      "[36.78373786407767, 44.24984058155847]\n"
     ]
    }
   ],
   "source": [
    "# 2. List of average age for each income group\n",
    "average_age_list = df.groupby('income')['age'].mean().tolist()\n",
    "print(\"\\nList of average ages for each income group:\")\n",
    "print(average_age_list)"
   ]
  },
  {
   "cell_type": "code",
   "execution_count": 4,
   "id": "d32e029d",
   "metadata": {},
   "outputs": [
    {
     "name": "stdout",
     "output_type": "stream",
     "text": [
      "\n",
      "Statistical details for each income group:\n",
      "\n",
      "Income Group: <=50K\n",
      "count    24720.000000\n",
      "mean        36.783738\n",
      "std         14.020088\n",
      "min         17.000000\n",
      "25%         25.000000\n",
      "50%         34.000000\n",
      "75%         46.000000\n",
      "max         90.000000\n",
      "Name: age, dtype: float64\n",
      "\n",
      "Income Group: >50K\n",
      "count    7841.000000\n",
      "mean       44.249841\n",
      "std        10.519028\n",
      "min        19.000000\n",
      "25%        36.000000\n",
      "50%        44.000000\n",
      "75%        51.000000\n",
      "max        90.000000\n",
      "Name: age, dtype: float64\n"
     ]
    }
   ],
   "source": [
    "# 3. Statistical details for each income group\n",
    "print(\"\\nStatistical details for each income group:\")\n",
    "for income_group in df['income'].unique():\n",
    "    print(f\"\\nIncome Group: {income_group}\")\n",
    "    print(df[df['income'] == income_group]['age'].describe())"
   ]
  },
  {
   "cell_type": "code",
   "execution_count": 6,
   "id": "66fc88ac",
   "metadata": {},
   "outputs": [
    {
     "name": "stdout",
     "output_type": "stream",
     "text": [
      "\n",
      "Statistical details for setosa:\n",
      "       sepal_length  sepal_width  petal_length  petal_width\n",
      "count      50.00000    50.000000     50.000000    50.000000\n",
      "mean        5.00600     3.428000      1.462000     0.246000\n",
      "std         0.35249     0.379064      0.173664     0.105386\n",
      "min         4.30000     2.300000      1.000000     0.100000\n",
      "25%         4.80000     3.200000      1.400000     0.200000\n",
      "50%         5.00000     3.400000      1.500000     0.200000\n",
      "75%         5.20000     3.675000      1.575000     0.300000\n",
      "max         5.80000     4.400000      1.900000     0.600000\n",
      "\n",
      "Statistical details for versicolor:\n",
      "       sepal_length  sepal_width  petal_length  petal_width\n",
      "count     50.000000    50.000000     50.000000    50.000000\n",
      "mean       5.936000     2.770000      4.260000     1.326000\n",
      "std        0.516171     0.313798      0.469911     0.197753\n",
      "min        4.900000     2.000000      3.000000     1.000000\n",
      "25%        5.600000     2.525000      4.000000     1.200000\n",
      "50%        5.900000     2.800000      4.350000     1.300000\n",
      "75%        6.300000     3.000000      4.600000     1.500000\n",
      "max        7.000000     3.400000      5.100000     1.800000\n",
      "\n",
      "Statistical details for virginica:\n",
      "       sepal_length  sepal_width  petal_length  petal_width\n",
      "count      50.00000    50.000000     50.000000     50.00000\n",
      "mean        6.58800     2.974000      5.552000      2.02600\n",
      "std         0.63588     0.322497      0.551895      0.27465\n",
      "min         4.90000     2.200000      4.500000      1.40000\n",
      "25%         6.22500     2.800000      5.100000      1.80000\n",
      "50%         6.50000     3.000000      5.550000      2.00000\n",
      "75%         6.90000     3.175000      5.875000      2.30000\n",
      "max         7.90000     3.800000      6.900000      2.50000\n"
     ]
    }
   ],
   "source": [
    "iris = sns.load_dataset('iris')\n",
    "\n",
    "# Display statistical details for each species\n",
    "species_list = iris['species'].unique()\n",
    "for species in species_list:\n",
    "    print(f\"\\nStatistical details for {species}:\")\n",
    "    species_data = iris[iris['species'] == species]\n",
    "    print(species_data.describe())"
   ]
  },
  {
   "cell_type": "code",
   "execution_count": null,
   "id": "8c6aaf66",
   "metadata": {},
   "outputs": [],
   "source": []
  }
 ],
 "metadata": {
  "kernelspec": {
   "display_name": "Python 3",
   "language": "python",
   "name": "python3"
  },
  "language_info": {
   "codemirror_mode": {
    "name": "ipython",
    "version": 3
   },
   "file_extension": ".py",
   "mimetype": "text/x-python",
   "name": "python",
   "nbconvert_exporter": "python",
   "pygments_lexer": "ipython3",
   "version": "3.12.2"
  }
 },
 "nbformat": 4,
 "nbformat_minor": 5
}
